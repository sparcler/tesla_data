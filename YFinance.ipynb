{
  "metadata": {
    "kernelspec": {
      "name": "python",
      "display_name": "Python (Pyodide)",
      "language": "python"
    },
    "language_info": {
      "codemirror_mode": {
        "name": "python",
        "version": 3
      },
      "file_extension": ".py",
      "mimetype": "text/x-python",
      "name": "python",
      "nbconvert_exporter": "python",
      "pygments_lexer": "ipython3",
      "version": "3.8"
    }
  },
  "nbformat_minor": 4,
  "nbformat": 4,
  "cells": [
    {
      "cell_type": "code",
      "source": "pip install yfinance",
      "metadata": {
        "trusted": true
      },
      "outputs": [],
      "execution_count": null
    },
    {
      "cell_type": "code",
      "source": "import yfinance as yf\n\n# Descargar datos de Tesla (ticker: TSLA)\ntesla_data = yf.download(\"TSLA\", start=\"2023-01-01\", end=\"2023-12-31\")\n\n# Restablecer el índice\ntesla_data.reset_index(inplace=True)\n\n# Visualizar las primeras cinco filas del marco de datos\nprint(tesla_data.head())\n",
      "metadata": {
        "trusted": true
      },
      "outputs": [],
      "execution_count": null
    },
    {
      "cell_type": "code",
      "source": "pip install requests beautifulsoup4 pandas",
      "metadata": {
        "trusted": true
      },
      "outputs": [],
      "execution_count": null
    },
    {
      "cell_type": "code",
      "source": "import requests\nfrom bs4 import BeautifulSoup\nimport pandas as pd\n\n# URL de la página con los datos financieros de Tesla\nurl = \"https://www.macrotrends.net/stocks/charts/TSLA/tesla/revenue\"\n\n# Realizar una solicitud GET a la página\nresponse = requests.get(url)\n\n# Crear un objeto BeautifulSoup para analizar la página\nsoup = BeautifulSoup(response.text, \"html.parser\")\n\n# Buscar la tabla de ingresos\ntables = soup.find_all(\"table\")\nrevenue_table = None\n\n# Identificar la tabla de ingresos\nfor table in tables:\n    if \"Tesla Quarterly Revenue\" in str(table):\n        revenue_table = table\n        break\n\n# Extraer los datos de la tabla\nrows = revenue_table.find_all(\"tr\")\ndata = []\n\nfor row in rows:\n    cells = row.find_all(\"td\")\n    if len(cells) > 1:  # Evitar filas vacías o encabezados\n        date = cells[0].text.strip()\n        revenue = cells[1].text.strip()\n        data.append({\"Date\": date, \"Revenue\": revenue})\n\n# Crear un DataFrame de Pandas\ntesla_revenue = pd.DataFrame(data)\n\n# Mostrar las cinco últimas filas del DataFrame\nprint(tesla_revenue.tail())\n",
      "metadata": {
        "trusted": true
      },
      "outputs": [],
      "execution_count": null
    },
    {
      "cell_type": "code",
      "source": "import yfinance as yf\n\n# Descargar datos de GameStop (ticker: GME)\ngme_data = yf.download(\"GME\", start=\"2023-01-01\", end=\"2023-12-31\")\n\n# Restablecer el índice\ngme_data.reset_index(inplace=True)\n\n# Visualizar las primeras cinco filas del marco de datos\nprint(gme_data.head())\n",
      "metadata": {
        "trusted": true
      },
      "outputs": [],
      "execution_count": null
    },
    {
      "cell_type": "code",
      "source": "pip install requests beautifulsoup4 pandas\n",
      "metadata": {
        "trusted": true
      },
      "outputs": [],
      "execution_count": null
    },
    {
      "cell_type": "code",
      "source": "import requests\nfrom bs4 import BeautifulSoup\nimport pandas as pd\n\n# URL de la página con los datos financieros de GameStop\nurl = \"https://www.macrotrends.net/stocks/charts/GME/gamestop/revenue\"\n\n# Realizar una solicitud GET a la página\nresponse = requests.get(url)\n\n# Crear un objeto BeautifulSoup para analizar la página\nsoup = BeautifulSoup(response.text, \"html.parser\")\n\n# Buscar la tabla de ingresos\ntables = soup.find_all(\"table\")\nrevenue_table = None\n\n# Identificar la tabla de ingresos\nfor table in tables:\n    if \"GameStop Quarterly Revenue\" in str(table):\n        revenue_table = table\n        break\n\n# Extraer los datos de la tabla\nrows = revenue_table.find_all(\"tr\")\ndata = []\n\nfor row in rows:\n    cells = row.find_all(\"td\")\n    if len(cells) > 1:  # Evitar filas vacías o encabezados\n        date = cells[0].text.strip()\n        revenue = cells[1].text.strip()\n        data.append({\"Date\": date, \"Revenue\": revenue})\n\n# Crear un DataFrame de Pandas\ngme_revenue = pd.DataFrame(data)\n\n# Mostrar las cinco últimas filas del DataFrame\nprint(gme_revenue.tail())\n",
      "metadata": {
        "trusted": true
      },
      "outputs": [],
      "execution_count": null
    },
    {
      "cell_type": "code",
      "source": "import yfinance as yf\nimport matplotlib.pyplot as plt\n\n# Define a function to create the stock graph\ndef make_graph(stock_data, title):\n    plt.figure(figsize=(10, 6))\n    plt.plot(stock_data['Date'], stock_data['Close'], label=\"Close Price\", color='blue')\n    plt.title(title, fontsize=16)\n    plt.xlabel(\"Date\", fontsize=12)\n    plt.ylabel(\"Close Price (USD)\", fontsize=12)\n    plt.legend(loc=\"upper left\")\n    plt.grid()\n    plt.show()\n\n# Download Tesla stock data\ntesla_data = yf.download(\"TSLA\", start=\"2023-01-01\", end=\"2023-12-31\")\ntesla_data.reset_index(inplace=True)\n\n# Call the make_graph function\nmake_graph(tesla_data, \"Tesla Stock Price (2023)\")\n",
      "metadata": {
        "trusted": true
      },
      "outputs": [],
      "execution_count": null
    },
    {
      "cell_type": "code",
      "source": "import yfinance as yf\nimport matplotlib.pyplot as plt\n\n# Define the make_graph function\ndef make_graph(stock_data, title):\n    plt.figure(figsize=(10, 6))\n    plt.plot(stock_data['Date'], stock_data['Close'], label=\"Close Price\", color='green')\n    plt.title(title, fontsize=16)\n    plt.xlabel(\"Date\", fontsize=12)\n    plt.ylabel(\"Close Price (USD)\", fontsize=12)\n    plt.legend(loc=\"upper left\")\n    plt.grid()\n    plt.show()\n\n# Download GameStop stock data\ngme_data = yf.download(\"GME\", start=\"2023-01-01\", end=\"2023-12-31\")\ngme_data.reset_index(inplace=True)\n\n# Call the make_graph function\nmake_graph(gme_data, \"GameStop Stock Price (2023)\")\n",
      "metadata": {
        "trusted": true
      },
      "outputs": [],
      "execution_count": null
    }
  ]
}